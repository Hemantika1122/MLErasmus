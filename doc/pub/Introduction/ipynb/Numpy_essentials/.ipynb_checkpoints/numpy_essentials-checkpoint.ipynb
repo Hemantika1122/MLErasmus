{
 "cells": [
  {
   "cell_type": "markdown",
   "id": "f866e23e",
   "metadata": {},
   "source": [
    "Remember you this this yourself. Have some faith in you.\n",
    "\n",
    "Video Link\n",
    "https://www.youtube.com/watch?v=DcfYgePyedM&list=PLkdGijFCNuVnGxo-1fSNcdHh5gZc17oRM&index=5\n",
    "\n",
    "\n",
    "Notebook link\n",
    "https://github.com/lukepolson/youtube_channel/blob/main/Python%20Tutorial%20Series/numpy_essentials.ipynb\n",
    "\n",
    "\n",
    "Your Notebook link\n",
    "https://jovian.ai/hemantika-sengar/numpy-essentials-f40da"
   ]
  },
  {
   "cell_type": "code",
   "execution_count": 1,
   "id": "b617d894",
   "metadata": {},
   "outputs": [],
   "source": [
    "import numpy as np\n",
    "import matplotlib.pyplot as plt"
   ]
  },
  {
   "cell_type": "markdown",
   "id": "1c3ee90e",
   "metadata": {},
   "source": [
    "Creating Arrays"
   ]
  },
  {
   "cell_type": "code",
   "execution_count": 2,
   "id": "0e886620",
   "metadata": {},
   "outputs": [],
   "source": [
    "a1 = np.array([4,6,8,2])\n",
    "a2 = np.zeros(10)\n",
    "a3 = np.ones(4)\n",
    "a4 = np.random.random(10)\n",
    "a5 = np.random.randn(10) #gaussian dist with mean=0 and std dev =1\n",
    "a6 = np.linspace(0, 10, 100) #100 specifies no of elements with equal spacing\n",
    "a7 = np.arange(0, 10, 0.2) #0.2 specifies spacing"
   ]
  },
  {
   "cell_type": "code",
   "execution_count": 3,
   "id": "0dc43480",
   "metadata": {},
   "outputs": [
    {
     "data": {
      "text/plain": [
       "array([4, 6, 8, 2])"
      ]
     },
     "execution_count": 3,
     "metadata": {},
     "output_type": "execute_result"
    }
   ],
   "source": [
    "a1"
   ]
  },
  {
   "cell_type": "code",
   "execution_count": 4,
   "id": "7f6cfe0d",
   "metadata": {},
   "outputs": [
    {
     "data": {
      "text/plain": [
       "array([0., 0., 0., 0., 0., 0., 0., 0., 0., 0.])"
      ]
     },
     "execution_count": 4,
     "metadata": {},
     "output_type": "execute_result"
    }
   ],
   "source": [
    "a2"
   ]
  },
  {
   "cell_type": "code",
   "execution_count": 5,
   "id": "accdd47f",
   "metadata": {},
   "outputs": [
    {
     "data": {
      "text/plain": [
       "array([1., 1., 1., 1.])"
      ]
     },
     "execution_count": 5,
     "metadata": {},
     "output_type": "execute_result"
    }
   ],
   "source": [
    "a3"
   ]
  },
  {
   "cell_type": "code",
   "execution_count": 6,
   "id": "071fff7c",
   "metadata": {},
   "outputs": [
    {
     "data": {
      "text/plain": [
       "array([0.20703995, 0.98443124, 0.18190862, 0.06519002, 0.97254682,\n",
       "       0.82165363, 0.6914732 , 0.62130535, 0.05632186, 0.93106029])"
      ]
     },
     "execution_count": 6,
     "metadata": {},
     "output_type": "execute_result"
    }
   ],
   "source": [
    "a4"
   ]
  },
  {
   "cell_type": "code",
   "execution_count": 7,
   "id": "3baab392",
   "metadata": {},
   "outputs": [
    {
     "data": {
      "text/plain": [
       "array([ 0.43063145, -0.8949489 , -0.80506859, -1.56656545,  1.37968444,\n",
       "       -1.23861998, -0.11825129, -0.72154214, -0.78644299, -0.41428614])"
      ]
     },
     "execution_count": 7,
     "metadata": {},
     "output_type": "execute_result"
    }
   ],
   "source": [
    "a5"
   ]
  },
  {
   "cell_type": "code",
   "execution_count": 8,
   "id": "a57eda39",
   "metadata": {},
   "outputs": [
    {
     "data": {
      "text/plain": [
       "array([ 0.        ,  0.1010101 ,  0.2020202 ,  0.3030303 ,  0.4040404 ,\n",
       "        0.50505051,  0.60606061,  0.70707071,  0.80808081,  0.90909091,\n",
       "        1.01010101,  1.11111111,  1.21212121,  1.31313131,  1.41414141,\n",
       "        1.51515152,  1.61616162,  1.71717172,  1.81818182,  1.91919192,\n",
       "        2.02020202,  2.12121212,  2.22222222,  2.32323232,  2.42424242,\n",
       "        2.52525253,  2.62626263,  2.72727273,  2.82828283,  2.92929293,\n",
       "        3.03030303,  3.13131313,  3.23232323,  3.33333333,  3.43434343,\n",
       "        3.53535354,  3.63636364,  3.73737374,  3.83838384,  3.93939394,\n",
       "        4.04040404,  4.14141414,  4.24242424,  4.34343434,  4.44444444,\n",
       "        4.54545455,  4.64646465,  4.74747475,  4.84848485,  4.94949495,\n",
       "        5.05050505,  5.15151515,  5.25252525,  5.35353535,  5.45454545,\n",
       "        5.55555556,  5.65656566,  5.75757576,  5.85858586,  5.95959596,\n",
       "        6.06060606,  6.16161616,  6.26262626,  6.36363636,  6.46464646,\n",
       "        6.56565657,  6.66666667,  6.76767677,  6.86868687,  6.96969697,\n",
       "        7.07070707,  7.17171717,  7.27272727,  7.37373737,  7.47474747,\n",
       "        7.57575758,  7.67676768,  7.77777778,  7.87878788,  7.97979798,\n",
       "        8.08080808,  8.18181818,  8.28282828,  8.38383838,  8.48484848,\n",
       "        8.58585859,  8.68686869,  8.78787879,  8.88888889,  8.98989899,\n",
       "        9.09090909,  9.19191919,  9.29292929,  9.39393939,  9.49494949,\n",
       "        9.5959596 ,  9.6969697 ,  9.7979798 ,  9.8989899 , 10.        ])"
      ]
     },
     "execution_count": 8,
     "metadata": {},
     "output_type": "execute_result"
    }
   ],
   "source": [
    "a6"
   ]
  },
  {
   "cell_type": "code",
   "execution_count": 9,
   "id": "f77ed2d3",
   "metadata": {},
   "outputs": [
    {
     "data": {
      "text/plain": [
       "array([0. , 0.2, 0.4, 0.6, 0.8, 1. , 1.2, 1.4, 1.6, 1.8, 2. , 2.2, 2.4,\n",
       "       2.6, 2.8, 3. , 3.2, 3.4, 3.6, 3.8, 4. , 4.2, 4.4, 4.6, 4.8, 5. ,\n",
       "       5.2, 5.4, 5.6, 5.8, 6. , 6.2, 6.4, 6.6, 6.8, 7. , 7.2, 7.4, 7.6,\n",
       "       7.8, 8. , 8.2, 8.4, 8.6, 8.8, 9. , 9.2, 9.4, 9.6, 9.8])"
      ]
     },
     "execution_count": 9,
     "metadata": {},
     "output_type": "execute_result"
    }
   ],
   "source": [
    "a7"
   ]
  },
  {
   "cell_type": "markdown",
   "id": "5c381373",
   "metadata": {},
   "source": [
    "Array Operations, we use arrays instead of lists because operations are element wise in arrays. \n",
    "\n",
    "List of many many mathematical functions here:\n",
    "\n",
    "https://numpy.org/doc/stable/reference/routines.math.html\n"
   ]
  },
  {
   "cell_type": "code",
   "execution_count": 10,
   "id": "63ce3b46",
   "metadata": {},
   "outputs": [
    {
     "data": {
      "text/plain": [
       "array([ 8, 12, 16,  4])"
      ]
     },
     "execution_count": 10,
     "metadata": {},
     "output_type": "execute_result"
    }
   ],
   "source": [
    "a1*2\n"
   ]
  },
  {
   "cell_type": "code",
   "execution_count": 11,
   "id": "6c0d646b",
   "metadata": {},
   "outputs": [
    {
     "data": {
      "text/plain": [
       "array([0.25      , 0.16666667, 0.125     , 0.5       ])"
      ]
     },
     "execution_count": 11,
     "metadata": {},
     "output_type": "execute_result"
    }
   ],
   "source": [
    "1/a1"
   ]
  },
  {
   "cell_type": "code",
   "execution_count": 12,
   "id": "03d94f4d",
   "metadata": {},
   "outputs": [
    {
     "data": {
      "text/plain": [
       "array([False,  True,  True, False])"
      ]
     },
     "execution_count": 12,
     "metadata": {},
     "output_type": "execute_result"
    }
   ],
   "source": [
    "a1>4"
   ]
  },
  {
   "cell_type": "code",
   "execution_count": 13,
   "id": "21b9516f",
   "metadata": {},
   "outputs": [
    {
     "data": {
      "text/plain": [
       "array([6, 8])"
      ]
     },
     "execution_count": 13,
     "metadata": {},
     "output_type": "execute_result"
    }
   ],
   "source": [
    "a1[a1>4] #indexing"
   ]
  },
  {
   "cell_type": "code",
   "execution_count": 14,
   "id": "8d337301",
   "metadata": {},
   "outputs": [
    {
     "data": {
      "text/plain": [
       "array([2.25      , 2.16666667, 2.125     , 2.5       ])"
      ]
     },
     "execution_count": 14,
     "metadata": {},
     "output_type": "execute_result"
    }
   ],
   "source": [
    "1/a1 + 2"
   ]
  },
  {
   "cell_type": "code",
   "execution_count": 15,
   "id": "c9428ba1",
   "metadata": {},
   "outputs": [
    {
     "data": {
      "text/plain": [
       "array([0.00000000e+00, 1.02030405e-04, 4.08121620e-04, 9.18273646e-04,\n",
       "       1.63248648e-03, 2.55076013e-03, 3.67309458e-03, 4.99948985e-03,\n",
       "       6.52994592e-03, 8.26446281e-03, 1.02030405e-02, 1.23456790e-02,\n",
       "       1.46923783e-02, 1.72431385e-02, 1.99979594e-02, 2.29568411e-02,\n",
       "       2.61197837e-02, 2.94867871e-02, 3.30578512e-02, 3.68329762e-02,\n",
       "       4.08121620e-02, 4.49954086e-02, 4.93827160e-02, 5.39740843e-02,\n",
       "       5.87695133e-02, 6.37690032e-02, 6.89725538e-02, 7.43801653e-02,\n",
       "       7.99918376e-02, 8.58075707e-02, 9.18273646e-02, 9.80512193e-02,\n",
       "       1.04479135e-01, 1.11111111e-01, 1.17947148e-01, 1.24987246e-01,\n",
       "       1.32231405e-01, 1.39679625e-01, 1.47331905e-01, 1.55188246e-01,\n",
       "       1.63248648e-01, 1.71513111e-01, 1.79981635e-01, 1.88654219e-01,\n",
       "       1.97530864e-01, 2.06611570e-01, 2.15896337e-01, 2.25385165e-01,\n",
       "       2.35078053e-01, 2.44975003e-01, 2.55076013e-01, 2.65381084e-01,\n",
       "       2.75890215e-01, 2.86603408e-01, 2.97520661e-01, 3.08641975e-01,\n",
       "       3.19967350e-01, 3.31496786e-01, 3.43230283e-01, 3.55167840e-01,\n",
       "       3.67309458e-01, 3.79655137e-01, 3.92204877e-01, 4.04958678e-01,\n",
       "       4.17916539e-01, 4.31078461e-01, 4.44444444e-01, 4.58014488e-01,\n",
       "       4.71788593e-01, 4.85766758e-01, 4.99948985e-01, 5.14335272e-01,\n",
       "       5.28925620e-01, 5.43720029e-01, 5.58718498e-01, 5.73921028e-01,\n",
       "       5.89327620e-01, 6.04938272e-01, 6.20752984e-01, 6.36771758e-01,\n",
       "       6.52994592e-01, 6.69421488e-01, 6.86052444e-01, 7.02887460e-01,\n",
       "       7.19926538e-01, 7.37169677e-01, 7.54616876e-01, 7.72268136e-01,\n",
       "       7.90123457e-01, 8.08182838e-01, 8.26446281e-01, 8.44913784e-01,\n",
       "       8.63585348e-01, 8.82460973e-01, 9.01540659e-01, 9.20824406e-01,\n",
       "       9.40312213e-01, 9.60004081e-01, 9.79900010e-01, 1.00000000e+00])"
      ]
     },
     "execution_count": 15,
     "metadata": {},
     "output_type": "execute_result"
    }
   ],
   "source": [
    "x = np.linspace(0, 1, 100)\n",
    "y = x**2\n",
    "y"
   ]
  },
  {
   "cell_type": "code",
   "execution_count": 16,
   "id": "5633602b",
   "metadata": {},
   "outputs": [
    {
     "data": {
      "text/plain": [
       "[<matplotlib.lines.Line2D at 0x7fd4e6497fd0>]"
      ]
     },
     "execution_count": 16,
     "metadata": {},
     "output_type": "execute_result"
    },
    {
     "data": {
      "image/png": "[encoded data removed]",
      "text/plain": [
       "<Figure size 432x288 with 1 Axes>"
      ]
     },
     "metadata": {
      "needs_background": "light"
     },
     "output_type": "display_data"
    }
   ],
   "source": [
    "plt.plot(x,y)"
   ]
  },
  {
   "cell_type": "code",
   "execution_count": 17,
   "id": "c2eaf0f9",
   "metadata": {},
   "outputs": [
    {
     "data": {
      "text/plain": [
       "(array([2., 2., 0., 0., 0., 0., 2., 0., 1., 3.]),\n",
       " array([0.05632186, 0.1491328 , 0.24194374, 0.33475468, 0.42756562,\n",
       "        0.52037655, 0.61318749, 0.70599843, 0.79880937, 0.89162031,\n",
       "        0.98443124]),\n",
       " <BarContainer object of 10 artists>)"
      ]
     },
     "execution_count": 17,
     "metadata": {},
     "output_type": "execute_result"
    },
    {
     "data": {
      "image/png": "[encoded data removed]",
      "text/plain": [
       "<Figure size 432x288 with 1 Axes>"
      ]
     },
     "metadata": {
      "needs_background": "light"
     },
     "output_type": "display_data"
    }
   ],
   "source": [
    "plt.hist(a4)"
   ]
  },
  {
   "cell_type": "code",
   "execution_count": 18,
   "id": "6c7a936d",
   "metadata": {},
   "outputs": [
    {
     "data": {
      "text/plain": [
       "array([ 0.00000000e+00,  1.13821361e-03,  1.00221881e-02,  3.71018374e-02,\n",
       "        9.61314742e-02,  2.04513737e-01,  3.83563147e-01,  6.58650421e-01,\n",
       "        1.05918160e+00,  1.61835867e+00,  2.37266069e+00,  3.36097719e+00,\n",
       "        4.62331808e+00,  6.19901824e+00,  8.12434947e+00,  1.04294489e+01,\n",
       "        1.31344715e+01,  1.62448760e+01,  1.97457588e+01,  2.35951600e+01,\n",
       "        2.77162826e+01,  3.19885854e+01,  3.62377435e+01,  4.02245066e+01,\n",
       "        4.36325363e+01,  4.60553634e+01,  4.69826812e+01,  4.57862775e+01,\n",
       "        4.17060097e+01,  3.38363506e+01,  2.11141607e+01,  2.30850222e+00,\n",
       "       -2.39865271e+01, -5.93547739e+01, -1.05555459e+02, -1.64513484e+02,\n",
       "       -2.38300814e+02, -3.29106928e+02, -4.39196087e+02, -5.70848967e+02,\n",
       "       -7.26286014e+02, -9.07569703e+02, -1.11648276e+03, -1.35437936e+03,\n",
       "       -1.62200630e+03, -1.91929125e+03, -2.24509550e+03, -2.59692883e+03,\n",
       "       -2.97062481e+03, -3.35997566e+03, -3.75632653e+03, -4.14813054e+03,\n",
       "       -4.52046755e+03, -4.85453132e+03, -5.12709221e+03, -5.30994532e+03,\n",
       "       -5.36935687e+03, -5.26552584e+03, -4.95208126e+03, -4.37564109e+03,\n",
       "       -3.47546303e+03, -2.18322388e+03, -4.22969791e+02,  1.88871327e+03,\n",
       "        4.84225306e+03,  8.53430526e+03,  1.30665582e+04,  1.85440502e+04,\n",
       "        2.50729164e+04,  3.27574729e+04,  4.16965449e+04,  5.19789378e+04,\n",
       "        6.36779510e+04,  7.68448335e+04,  9.15010835e+04,  1.07629503e+05,\n",
       "        1.25163926e+05,  1.43977567e+05,  1.63869935e+05,  1.84552328e+05,\n",
       "        2.05631919e+05,  2.26594521e+05,  2.46786173e+05,  2.65393746e+05,\n",
       "        2.81424865e+05,  2.93687543e+05,  3.00770000e+05,  3.01021332e+05,\n",
       "        2.92533758e+05,  2.73127398e+05,  2.40338676e+05,  1.91413626e+05,\n",
       "        1.23307614e+05,  3.26931598e+04, -8.40221884e+04, -2.30665788e+05,\n",
       "       -4.11255239e+05, -6.29936532e+05, -8.90902164e+05, -1.19828624e+06])"
      ]
     },
     "execution_count": 18,
     "metadata": {},
     "output_type": "execute_result"
    }
   ],
   "source": [
    "def f(x):\n",
    "    return x**2 * np.sin(x) / np.exp(-x)\n",
    "\n",
    "x = np.linspace(0, 10, 100)\n",
    "y = f(x)\n",
    "y"
   ]
  },
  {
   "cell_type": "code",
   "execution_count": 19,
   "id": "5ee09a05",
   "metadata": {},
   "outputs": [
    {
     "data": {
      "text/plain": [
       "[<matplotlib.lines.Line2D at 0x7fd4de315040>]"
      ]
     },
     "execution_count": 19,
     "metadata": {},
     "output_type": "execute_result"
    },
    {
     "data": {
      "image/png": "[encoded data removed]",
      "text/plain": [
       "<Figure size 432x288 with 1 Axes>"
      ]
     },
     "metadata": {
      "needs_background": "light"
     },
     "output_type": "display_data"
    }
   ],
   "source": [
    "plt.plot(x,y)"
   ]
  },
  {
   "cell_type": "markdown",
   "id": "ca6f0f0c",
   "metadata": {},
   "source": [
    "# Array Indexing/Slicing"
   ]
  },
  {
   "cell_type": "code",
   "execution_count": 20,
   "id": "0e41524e",
   "metadata": {},
   "outputs": [],
   "source": [
    "a1 = np.array([2,4,6,8,10])"
   ]
  },
  {
   "cell_type": "code",
   "execution_count": 21,
   "id": "0bb0809d",
   "metadata": {},
   "outputs": [
    {
     "data": {
      "text/plain": [
       "6"
      ]
     },
     "execution_count": 21,
     "metadata": {},
     "output_type": "execute_result"
    }
   ],
   "source": [
    "a1[2] #indexing"
   ]
  },
  {
   "cell_type": "code",
   "execution_count": 22,
   "id": "6f43acc5",
   "metadata": {},
   "outputs": [
    {
     "data": {
      "text/plain": [
       "array([ 6,  8, 10])"
      ]
     },
     "execution_count": 22,
     "metadata": {},
     "output_type": "execute_result"
    }
   ],
   "source": [
    "a1[2:]"
   ]
  },
  {
   "cell_type": "code",
   "execution_count": 23,
   "id": "23d1efc8",
   "metadata": {},
   "outputs": [
    {
     "data": {
      "text/plain": [
       "array([2, 4, 6])"
      ]
     },
     "execution_count": 23,
     "metadata": {},
     "output_type": "execute_result"
    }
   ],
   "source": [
    "a1[:-2]"
   ]
  },
  {
   "cell_type": "code",
   "execution_count": 24,
   "id": "d5d1b95b",
   "metadata": {},
   "outputs": [
    {
     "data": {
      "text/plain": [
       "array([4, 6])"
      ]
     },
     "execution_count": 24,
     "metadata": {},
     "output_type": "execute_result"
    }
   ],
   "source": [
    "a1[1:-2]"
   ]
  },
  {
   "cell_type": "code",
   "execution_count": 25,
   "id": "4aacdaf1",
   "metadata": {},
   "outputs": [
    {
     "data": {
      "text/plain": [
       "array([False,  True,  True,  True,  True])"
      ]
     },
     "execution_count": 25,
     "metadata": {},
     "output_type": "execute_result"
    }
   ],
   "source": [
    "a1>3"
   ]
  },
  {
   "cell_type": "code",
   "execution_count": 26,
   "id": "c7a9e8dc",
   "metadata": {},
   "outputs": [
    {
     "data": {
      "text/plain": [
       "array([ 4,  6,  8, 10])"
      ]
     },
     "execution_count": 26,
     "metadata": {},
     "output_type": "execute_result"
    }
   ],
   "source": [
    "a1[a1>3]"
   ]
  },
  {
   "cell_type": "code",
   "execution_count": 27,
   "id": "f7eb949a",
   "metadata": {},
   "outputs": [],
   "source": [
    "names = np.array(['Jim', 'Luke', 'Josh', 'Pete'])"
   ]
  },
  {
   "cell_type": "code",
   "execution_count": 28,
   "id": "acfbfd02",
   "metadata": {},
   "outputs": [
    {
     "data": {
      "text/plain": [
       "'a'"
      ]
     },
     "execution_count": 28,
     "metadata": {},
     "output_type": "execute_result"
    }
   ],
   "source": [
    "#lambda function that takes an s and returns the first letter\n",
    "#of s\n",
    "\n",
    "lambda s: s[0]\n",
    "\n",
    "f = lambda s: s[0]\n",
    "f('animal')\n",
    "\n",
    "# np.vectorize acts like a loop takes an array and it applies the lambda\n",
    "# to every element of the array. The array here is names"
   ]
  },
  {
   "cell_type": "code",
   "execution_count": 29,
   "id": "db6f7f41",
   "metadata": {},
   "outputs": [
    {
     "data": {
      "text/plain": [
       "array([False, False, False, False])"
      ]
     },
     "execution_count": 29,
     "metadata": {},
     "output_type": "execute_result"
    }
   ],
   "source": [
    "(names)=='J'"
   ]
  },
  {
   "cell_type": "code",
   "execution_count": 30,
   "id": "1a294a41",
   "metadata": {},
   "outputs": [
    {
     "data": {
      "text/plain": [
       "array([ True, False,  True, False])"
      ]
     },
     "execution_count": 30,
     "metadata": {},
     "output_type": "execute_result"
    }
   ],
   "source": [
    "first_letter_J = np.vectorize(lambda s: s[0])(names)=='J'\n",
    "first_letter_J #boolean array"
   ]
  },
  {
   "cell_type": "code",
   "execution_count": 31,
   "id": "09d0c102",
   "metadata": {},
   "outputs": [
    {
     "data": {
      "text/plain": [
       "array(['Jim', 'Josh'], dtype='<U4')"
      ]
     },
     "execution_count": 31,
     "metadata": {},
     "output_type": "execute_result"
    }
   ],
   "source": [
    "names[first_letter_J] #indexing names array using this array"
   ]
  },
  {
   "cell_type": "code",
   "execution_count": 32,
   "id": "a81f8b53",
   "metadata": {},
   "outputs": [
    {
     "data": {
      "text/plain": [
       "array([2, 0, 2, 0, 2])"
      ]
     },
     "execution_count": 32,
     "metadata": {},
     "output_type": "execute_result"
    }
   ],
   "source": [
    "a1%4 "
   ]
  },
  {
   "cell_type": "code",
   "execution_count": 33,
   "id": "8d08e8a8",
   "metadata": {},
   "outputs": [
    {
     "data": {
      "text/plain": [
       "array([False,  True, False,  True, False])"
      ]
     },
     "execution_count": 33,
     "metadata": {},
     "output_type": "execute_result"
    }
   ],
   "source": [
    "a1%4 == 0"
   ]
  },
  {
   "cell_type": "code",
   "execution_count": 34,
   "id": "e98711ef",
   "metadata": {},
   "outputs": [
    {
     "data": {
      "text/plain": [
       "array([4, 8])"
      ]
     },
     "execution_count": 34,
     "metadata": {},
     "output_type": "execute_result"
    }
   ],
   "source": [
    "a1[a1%4 == 0] #getting numbers divisible by 4"
   ]
  },
  {
   "cell_type": "markdown",
   "id": "b9429dce",
   "metadata": {},
   "source": [
    "# Calculus/Stastistical Functions"
   ]
  },
  {
   "cell_type": "code",
   "execution_count": 35,
   "id": "ee9bf721",
   "metadata": {},
   "outputs": [],
   "source": [
    "a1 = 2*np.random.randn(10000) + 10  # times two expans std deviation from 1 to 2 and plus 10 shifts mean from 0 to 10"
   ]
  },
  {
   "cell_type": "code",
   "execution_count": 36,
   "id": "12b9cee0",
   "metadata": {},
   "outputs": [
    {
     "data": {
      "text/plain": [
       "array([ 7.45051922, 10.1319821 ,  6.73902607, ..., 11.46936548,\n",
       "        9.16342423,  9.70777352])"
      ]
     },
     "execution_count": 36,
     "metadata": {},
     "output_type": "execute_result"
    }
   ],
   "source": [
    "a1"
   ]
  },
  {
   "cell_type": "code",
   "execution_count": 37,
   "id": "42e305dd",
   "metadata": {},
   "outputs": [
    {
     "data": {
      "text/plain": [
       "9.97243448925851e+00"
      ]
     },
     "execution_count": 37,
     "metadata": {},
     "output_type": "execute_result"
    }
   ],
   "source": [
    "np.mean(a1)"
   ]
  },
  {
   "cell_type": "code",
   "execution_count": 38,
   "id": "e7d5c1de",
   "metadata": {},
   "outputs": [
    {
     "data": {
      "text/plain": [
       "2.003028989977213"
      ]
     },
     "execution_count": 38,
     "metadata": {},
     "output_type": "execute_result"
    }
   ],
   "source": [
    "np.std(a1)"
   ]
  },
  {
   "cell_type": "code",
   "execution_count": 39,
   "id": "8b14011c",
   "metadata": {},
   "outputs": [
    {
     "data": {
      "text/plain": [
       "11.634293909567145"
      ]
     },
     "execution_count": 39,
     "metadata": {},
     "output_type": "execute_result"
    }
   ],
   "source": [
    "#How many no are bigger than a certain thing. \n",
    "#80% of number in the array are less than the resultant no = 11.67\n",
    "\n",
    "np.percentile(a1, 80) "
   ]
  },
  {
   "cell_type": "markdown",
   "id": "3c4515f7",
   "metadata": {},
   "source": [
    "integrals and derivatives"
   ]
  },
  {
   "cell_type": "code",
   "execution_count": 40,
   "id": "7a279670",
   "metadata": {},
   "outputs": [],
   "source": [
    "x = np.linspace(1, 10, 100)\n",
    "y = 1/x**2 * np.sin(x)"
   ]
  },
  {
   "cell_type": "code",
   "execution_count": 41,
   "id": "a0186722",
   "metadata": {},
   "outputs": [
    {
     "data": {
      "text/plain": [
       "[<matplotlib.lines.Line2D at 0x7fd4de29de50>]"
      ]
     },
     "execution_count": 41,
     "metadata": {},
     "output_type": "execute_result"
    },
    {
     "data": {
      "image/png": "[encoded data removed]",
      "text/plain": [
       "<Figure size 432x288 with 1 Axes>"
      ]
     },
     "metadata": {
      "needs_background": "light"
     },
     "output_type": "display_data"
    }
   ],
   "source": [
    "plt.plot(x,y)"
   ]
  },
  {
   "cell_type": "code",
   "execution_count": 42,
   "id": "77263d0f",
   "metadata": {},
   "outputs": [],
   "source": [
    "dydx = np.gradient(y, x) # dydy is the derivative and x tells us about spacing\n",
    "\n",
    "#integral\n",
    "dx = x[1] - x[0]\n",
    "y_int = np.cumsum(y) * dx"
   ]
  },
  {
   "cell_type": "code",
   "execution_count": 43,
   "id": "326863c0",
   "metadata": {},
   "outputs": [
    {
     "data": {
      "text/plain": [
       "array([ 1,  3,  6, 10])"
      ]
     },
     "execution_count": 43,
     "metadata": {},
     "output_type": "execute_result"
    }
   ],
   "source": [
    "np.cumsum(np.array([1,2,3,4])) #for understanding"
   ]
  },
  {
   "cell_type": "code",
   "execution_count": 44,
   "id": "a330524d",
   "metadata": {},
   "outputs": [
    {
     "data": {
      "text/plain": [
       "[<matplotlib.lines.Line2D at 0x7fd4de28b310>]"
      ]
     },
     "execution_count": 44,
     "metadata": {},
     "output_type": "execute_result"
    },
    {
     "data": {
      "image/png": "[encoded data removed]",
      "text/plain": [
       "<Figure size 432x288 with 1 Axes>"
      ]
     },
     "metadata": {
      "needs_background": "light"
     },
     "output_type": "display_data"
    }
   ],
   "source": [
    "plt.plot(x,y)\n",
    "plt.plot(x, dydx)\n",
    "plt.plot(x, y_int)"
   ]
  },
  {
   "cell_type": "markdown",
   "id": "46637ad8",
   "metadata": {},
   "source": [
    "# \n",
    "![](example1.PNG)"
   ]
  },
  {
   "cell_type": "code",
   "execution_count": 45,
   "id": "a92d9e60",
   "metadata": {},
   "outputs": [
    {
     "data": {
      "text/plain": [
       "[<matplotlib.lines.Line2D at 0x7fd4de1eaf40>]"
      ]
     },
     "execution_count": 45,
     "metadata": {},
     "output_type": "execute_result"
    },
    {
     "data": {
      "image/png": "[encoded data removed]",
      "text/plain": [
       "<Figure size 432x288 with 1 Axes>"
      ]
     },
     "metadata": {
      "needs_background": "light"
     },
     "output_type": "display_data"
    }
   ],
   "source": [
    "N = 10000\n",
    "\n",
    "x = np.linspace(0, 10, N+1)\n",
    "\n",
    "y = np.exp(-x/10) * np.sin(x)\n",
    "\n",
    "plt.plot(x, y)\n"
   ]
  },
  {
   "cell_type": "code",
   "execution_count": 46,
   "id": "95ca4a11",
   "metadata": {},
   "outputs": [
    {
     "data": {
      "text/plain": [
       "-2.956023068963138e-01"
      ]
     },
     "execution_count": 46,
     "metadata": {},
     "output_type": "execute_result"
    }
   ],
   "source": [
    "(x >= 4)*(x <= 7) #boolean array\n",
    "\n",
    "y[(x >= 4)*(x <= 7)] #using boolean array for indexing y\n",
    "\n",
    "np.mean(y[(x >= 4)*(x <= 7)])\n"
   ]
  },
  {
   "cell_type": "code",
   "execution_count": 47,
   "id": "ec9d2a2b",
   "metadata": {},
   "outputs": [
    {
     "data": {
      "text/plain": [
       "0.3144875387508511"
      ]
     },
     "execution_count": 47,
     "metadata": {},
     "output_type": "execute_result"
    }
   ],
   "source": [
    "np.std(y[(x >= 4)*(x <= 7)])"
   ]
  },
  {
   "cell_type": "markdown",
   "id": "fdbcac94",
   "metadata": {},
   "source": [
    "#to learn that this will throw an error:\n",
    "\n",
    "(x >= 4 and x <= 7) #boolean array\n",
    "\n",
    "y[(x >= 4)*(x <= 7)] #using boolean array for indexing y\n",
    "\n",
    "np.mean(y[(x >= 4)*(x <= 7)])"
   ]
  },
  {
   "cell_type": "code",
   "execution_count": 48,
   "id": "cd1b742d",
   "metadata": {},
   "outputs": [
    {
     "data": {
      "text/plain": [
       "0.06145551274590662"
      ]
     },
     "execution_count": 48,
     "metadata": {},
     "output_type": "execute_result"
    }
   ],
   "source": [
    "np.percentile(y[(x >= 4)*(x <= 7)], 80)"
   ]
  },
  {
   "cell_type": "code",
   "execution_count": 49,
   "id": "66dd4437",
   "metadata": {},
   "outputs": [
    {
     "data": {
      "text/plain": [
       "[<matplotlib.lines.Line2D at 0x7fd4de1620d0>]"
      ]
     },
     "execution_count": 49,
     "metadata": {},
     "output_type": "execute_result"
    },
    {
     "data": {
      "image/png": "[encoded data removed]",
      "text/plain": [
       "<Figure size 432x288 with 1 Axes>"
      ]
     },
     "metadata": {
      "needs_background": "light"
     },
     "output_type": "display_data"
    }
   ],
   "source": [
    "dydx = np.gradient(y,x)\n",
    "\n",
    "plt.plot(x, dydx)"
   ]
  },
  {
   "cell_type": "code",
   "execution_count": 50,
   "id": "0ca44112",
   "metadata": {},
   "outputs": [
    {
     "data": {
      "text/plain": [
       "array([ 0.99989984,  0.99979935,  0.9995979 , ..., -0.28918296,\n",
       "       -0.28892346, -0.28879364])"
      ]
     },
     "execution_count": 50,
     "metadata": {},
     "output_type": "execute_result"
    }
   ],
   "source": [
    "dydx = np.gradient(y,x)\n",
    "\n",
    "dydx"
   ]
  },
  {
   "cell_type": "markdown",
   "id": "0b0b11b3",
   "metadata": {},
   "source": [
    "Question 4 is regarding calculation of roots( where the derivative is zero). For this we see y points on graphs, and we multiply the y point with its next consicutive y point. If both y ponts are positive, the multiplication is positive. If both points are negative the multiplication is positive again. If the multiplication is negative that means we seet a sudden change from either negative ot positive or vice-versa. THat how we know that dy/dx = 0."
   ]
  },
  {
   "cell_type": "code",
   "execution_count": 51,
   "id": "9a302d6d",
   "metadata": {},
   "outputs": [
    {
     "data": {
      "text/plain": [
       "array([ 0.99979935,  0.9995979 ,  0.99939548, ..., -0.28918296,\n",
       "       -0.28892346, -0.28879364])"
      ]
     },
     "execution_count": 51,
     "metadata": {},
     "output_type": "execute_result"
    }
   ],
   "source": [
    "dydx[1:] #excluding the element at first index"
   ]
  },
  {
   "cell_type": "code",
   "execution_count": 52,
   "id": "7ec608ef",
   "metadata": {},
   "outputs": [
    {
     "data": {
      "text/plain": [
       "array([ 0.99989984,  0.99979935,  0.9995979 , ..., -0.28944223,\n",
       "       -0.28918296, -0.28892346])"
      ]
     },
     "execution_count": 52,
     "metadata": {},
     "output_type": "execute_result"
    }
   ],
   "source": [
    "dydx[:-1] #excluding the element at last index"
   ]
  },
  {
   "cell_type": "code",
   "execution_count": 53,
   "id": "c3f6b4c1",
   "metadata": {},
   "outputs": [
    {
     "data": {
      "text/plain": [
       "array([0.99969921, 0.99939733, 0.99899362, ..., 0.08370176, 0.08355174,\n",
       "       0.08343926])"
      ]
     },
     "execution_count": 53,
     "metadata": {},
     "output_type": "execute_result"
    }
   ],
   "source": [
    "dydx[1:] * dydx[:-1] #second index*first index.......last index*second last "
   ]
  },
  {
   "cell_type": "markdown",
   "id": "d2b943cd",
   "metadata": {},
   "source": [
    "So we have an array with multiplication and with 1 less emement than in dydx"
   ]
  },
  {
   "cell_type": "code",
   "execution_count": 54,
   "id": "923dd2da",
   "metadata": {},
   "outputs": [
    {
     "data": {
      "text/plain": [
       "array([False, False, False, ..., False, False, False])"
      ]
     },
     "execution_count": 54,
     "metadata": {},
     "output_type": "execute_result"
    }
   ],
   "source": [
    "dydx[1:] * dydx[:-1]  < 0"
   ]
  },
  {
   "cell_type": "code",
   "execution_count": 55,
   "id": "09482afb",
   "metadata": {},
   "outputs": [
    {
     "data": {
      "text/plain": [
       "array([1.472, 4.613, 7.755])"
      ]
     },
     "execution_count": 55,
     "metadata": {},
     "output_type": "execute_result"
    }
   ],
   "source": [
    "x[1:][dydx[1:] * dydx[:-1]  < 0] #x[1:] is an array and [dydx[1:] * dydx[:-1]  < 0] is the index of this array\n",
    "# getting the no for the position in x where [dydx[1:] * dydx[:-1]  < 0] is true"
   ]
  },
  {
   "cell_type": "markdown",
   "id": "0ebf4faa",
   "metadata": {},
   "source": [
    "# Question 2:\n",
    "\n",
    "Sum together every number from 0 to 10000 except for those than can be divided by 4 or 7. Do this in one line of code\n"
   ]
  },
  {
   "cell_type": "code",
   "execution_count": 56,
   "id": "61e4d252",
   "metadata": {},
   "outputs": [
    {
     "data": {
      "text/plain": [
       "array([    0,     1,     2, ...,  9998,  9999, 10000])"
      ]
     },
     "execution_count": 56,
     "metadata": {},
     "output_type": "execute_result"
    }
   ],
   "source": [
    "x = np.arange(0, 10000+1, 1)\n",
    "x"
   ]
  },
  {
   "cell_type": "code",
   "execution_count": 57,
   "id": "91b3aa79",
   "metadata": {},
   "outputs": [
    {
     "data": {
      "text/plain": [
       "array([False,  True,  True, ...,  True,  True, False])"
      ]
     },
     "execution_count": 57,
     "metadata": {},
     "output_type": "execute_result"
    }
   ],
   "source": [
    "x%4!=0"
   ]
  },
  {
   "cell_type": "code",
   "execution_count": 58,
   "id": "2dd70bc4",
   "metadata": {},
   "outputs": [
    {
     "data": {
      "text/plain": [
       "array([False,  True,  True, ...,  True,  True,  True])"
      ]
     },
     "execution_count": 58,
     "metadata": {},
     "output_type": "execute_result"
    }
   ],
   "source": [
    "x%7!=0"
   ]
  },
  {
   "cell_type": "code",
   "execution_count": 59,
   "id": "a172f7ac",
   "metadata": {},
   "outputs": [
    {
     "data": {
      "text/plain": [
       "array([   1,    2,    3, ..., 9997, 9998, 9999])"
      ]
     },
     "execution_count": 59,
     "metadata": {},
     "output_type": "execute_result"
    }
   ],
   "source": [
    "x[(x%4!=0) * (x%7!=0)]"
   ]
  },
  {
   "cell_type": "code",
   "execution_count": 60,
   "id": "7250b884",
   "metadata": {},
   "outputs": [
    {
     "data": {
      "text/plain": [
       "32147142"
      ]
     },
     "execution_count": 60,
     "metadata": {},
     "output_type": "execute_result"
    }
   ],
   "source": [
    "x[(x%4!=0) * (x%7!=0)].sum()"
   ]
  },
  {
   "cell_type": "code",
   "execution_count": 61,
   "id": "2204b42e",
   "metadata": {},
   "outputs": [
    {
     "data": {
      "text/plain": [
       "32147142"
      ]
     },
     "execution_count": 61,
     "metadata": {},
     "output_type": "execute_result"
    }
   ],
   "source": [
    "sum(np.arange(0, 10000+1, 1)[(np.arange(0, 10000+1, 1)%4 != 0) * (np.arange(0, 10000+1, 1)%7 != 0)])"
   ]
  },
  {
   "cell_type": "markdown",
   "id": "508680ca",
   "metadata": {},
   "source": [
    "# \n",
    "![](example2.PNG)"
   ]
  },
  {
   "cell_type": "code",
   "execution_count": 62,
   "id": "ad9cde29",
   "metadata": {},
   "outputs": [
    {
     "data": {
      "text/plain": [
       "array([0.        , 0.00628947, 0.01257895, 0.01886842, 0.0251579 ,\n",
       "       0.03144737, 0.03773685, 0.04402632, 0.0503158 , 0.05660527,\n",
       "       0.06289475, 0.06918422, 0.0754737 , 0.08176317, 0.08805265,\n",
       "       0.09434212, 0.1006316 , 0.10692107, 0.11321055, 0.11950002,\n",
       "       0.1257895 , 0.13207897, 0.13836845, 0.14465792, 0.15094739,\n",
       "       0.15723687, 0.16352634, 0.16981582, 0.17610529, 0.18239477,\n",
       "       0.18868424, 0.19497372, 0.20126319, 0.20755267, 0.21384214,\n",
       "       0.22013162, 0.22642109, 0.23271057, 0.23900004, 0.24528952,\n",
       "       0.25157899, 0.25786847, 0.26415794, 0.27044742, 0.27673689,\n",
       "       0.28302637, 0.28931584, 0.29560531, 0.30189479, 0.30818426,\n",
       "       0.31447374, 0.32076321, 0.32705269, 0.33334216, 0.33963164,\n",
       "       0.34592111, 0.35221059, 0.35850006, 0.36478954, 0.37107901,\n",
       "       0.37736849, 0.38365796, 0.38994744, 0.39623691, 0.40252639,\n",
       "       0.40881586, 0.41510534, 0.42139481, 0.42768429, 0.43397376,\n",
       "       0.44026323, 0.44655271, 0.45284218, 0.45913166, 0.46542113,\n",
       "       0.47171061, 0.47800008, 0.48428956, 0.49057903, 0.49686851,\n",
       "       0.50315798, 0.50944746, 0.51573693, 0.52202641, 0.52831588,\n",
       "       0.53460536, 0.54089483, 0.54718431, 0.55347378, 0.55976326,\n",
       "       0.56605273, 0.57234221, 0.57863168, 0.58492115, 0.59121063,\n",
       "       0.5975001 , 0.60378958, 0.61007905, 0.61636853, 0.622658  ,\n",
       "       0.62894748, 0.63523695, 0.64152643, 0.6478159 , 0.65410538,\n",
       "       0.66039485, 0.66668433, 0.6729738 , 0.67926328, 0.68555275,\n",
       "       0.69184223, 0.6981317 , 0.70442118, 0.71071065, 0.71700013,\n",
       "       0.7232896 , 0.72957907, 0.73586855, 0.74215802, 0.7484475 ,\n",
       "       0.75473697, 0.76102645, 0.76731592, 0.7736054 , 0.77989487,\n",
       "       0.78618435, 0.79247382, 0.7987633 , 0.80505277, 0.81134225,\n",
       "       0.81763172, 0.8239212 , 0.83021067, 0.83650015, 0.84278962,\n",
       "       0.8490791 , 0.85536857, 0.86165805, 0.86794752, 0.87423699,\n",
       "       0.88052647, 0.88681594, 0.89310542, 0.89939489, 0.90568437,\n",
       "       0.91197384, 0.91826332, 0.92455279, 0.93084227, 0.93713174,\n",
       "       0.94342122, 0.94971069, 0.95600017, 0.96228964, 0.96857912,\n",
       "       0.97486859, 0.98115807, 0.98744754, 0.99373702, 1.00002649,\n",
       "       1.00631597, 1.01260544, 1.01889491, 1.02518439, 1.03147386,\n",
       "       1.03776334, 1.04405281, 1.05034229, 1.05663176, 1.06292124,\n",
       "       1.06921071, 1.07550019, 1.08178966, 1.08807914, 1.09436861,\n",
       "       1.10065809, 1.10694756, 1.11323704, 1.11952651, 1.12581599,\n",
       "       1.13210546, 1.13839494, 1.14468441, 1.15097389, 1.15726336,\n",
       "       1.16355283, 1.16984231, 1.17613178, 1.18242126, 1.18871073,\n",
       "       1.19500021, 1.20128968, 1.20757916, 1.21386863, 1.22015811,\n",
       "       1.22644758, 1.23273706, 1.23902653, 1.24531601, 1.25160548,\n",
       "       1.25789496, 1.26418443, 1.27047391, 1.27676338, 1.28305286,\n",
       "       1.28934233, 1.29563181, 1.30192128, 1.30821075, 1.31450023,\n",
       "       1.3207897 , 1.32707918, 1.33336865, 1.33965813, 1.3459476 ,\n",
       "       1.35223708, 1.35852655, 1.36481603, 1.3711055 , 1.37739498,\n",
       "       1.38368445, 1.38997393, 1.3962634 , 1.40255288, 1.40884235,\n",
       "       1.41513183, 1.4214213 , 1.42771078, 1.43400025, 1.44028973,\n",
       "       1.4465792 , 1.45286867, 1.45915815, 1.46544762, 1.4717371 ,\n",
       "       1.47802657, 1.48431605, 1.49060552, 1.496895  , 1.50318447,\n",
       "       1.50947395, 1.51576342, 1.5220529 , 1.52834237, 1.53463185,\n",
       "       1.54092132, 1.5472108 , 1.55350027, 1.55978975, 1.56607922,\n",
       "       1.5723687 , 1.57865817, 1.58494765, 1.59123712, 1.59752659,\n",
       "       1.60381607, 1.61010554, 1.61639502, 1.62268449, 1.62897397,\n",
       "       1.63526344, 1.64155292, 1.64784239, 1.65413187, 1.66042134,\n",
       "       1.66671082, 1.67300029, 1.67928977, 1.68557924, 1.69186872,\n",
       "       1.69815819, 1.70444767, 1.71073714, 1.71702662, 1.72331609,\n",
       "       1.72960557, 1.73589504, 1.74218451, 1.74847399, 1.75476346,\n",
       "       1.76105294, 1.76734241, 1.77363189, 1.77992136, 1.78621084,\n",
       "       1.79250031, 1.79878979, 1.80507926, 1.81136874, 1.81765821,\n",
       "       1.82394769, 1.83023716, 1.83652664, 1.84281611, 1.84910559,\n",
       "       1.85539506, 1.86168454, 1.86797401, 1.87426349, 1.88055296,\n",
       "       1.88684243, 1.89313191, 1.89942138, 1.90571086, 1.91200033,\n",
       "       1.91828981, 1.92457928, 1.93086876, 1.93715823, 1.94344771,\n",
       "       1.94973718, 1.95602666, 1.96231613, 1.96860561, 1.97489508,\n",
       "       1.98118456, 1.98747403, 1.99376351, 2.00005298, 2.00634246,\n",
       "       2.01263193, 2.01892141, 2.02521088, 2.03150035, 2.03778983,\n",
       "       2.0440793 , 2.05036878, 2.05665825, 2.06294773, 2.0692372 ,\n",
       "       2.07552668, 2.08181615, 2.08810563, 2.0943951 , 2.10068458,\n",
       "       2.10697405, 2.11326353, 2.119553  , 2.12584248, 2.13213195,\n",
       "       2.13842143, 2.1447109 , 2.15100038, 2.15728985, 2.16357932,\n",
       "       2.1698688 , 2.17615827, 2.18244775, 2.18873722, 2.1950267 ,\n",
       "       2.20131617, 2.20760565, 2.21389512, 2.2201846 , 2.22647407,\n",
       "       2.23276355, 2.23905302, 2.2453425 , 2.25163197, 2.25792145,\n",
       "       2.26421092, 2.2705004 , 2.27678987, 2.28307935, 2.28936882,\n",
       "       2.2956583 , 2.30194777, 2.30823724, 2.31452672, 2.32081619,\n",
       "       2.32710567, 2.33339514, 2.33968462, 2.34597409, 2.35226357,\n",
       "       2.35855304, 2.36484252, 2.37113199, 2.37742147, 2.38371094,\n",
       "       2.39000042, 2.39628989, 2.40257937, 2.40886884, 2.41515832,\n",
       "       2.42144779, 2.42773727, 2.43402674, 2.44031622, 2.44660569,\n",
       "       2.45289516, 2.45918464, 2.46547411, 2.47176359, 2.47805306,\n",
       "       2.48434254, 2.49063201, 2.49692149, 2.50321096, 2.50950044,\n",
       "       2.51578991, 2.52207939, 2.52836886, 2.53465834, 2.54094781,\n",
       "       2.54723729, 2.55352676, 2.55981624, 2.56610571, 2.57239519,\n",
       "       2.57868466, 2.58497414, 2.59126361, 2.59755308, 2.60384256,\n",
       "       2.61013203, 2.61642151, 2.62271098, 2.62900046, 2.63528993,\n",
       "       2.64157941, 2.64786888, 2.65415836, 2.66044783, 2.66673731,\n",
       "       2.67302678, 2.67931626, 2.68560573, 2.69189521, 2.69818468,\n",
       "       2.70447416, 2.71076363, 2.71705311, 2.72334258, 2.72963206,\n",
       "       2.73592153, 2.742211  , 2.74850048, 2.75478995, 2.76107943,\n",
       "       2.7673689 , 2.77365838, 2.77994785, 2.78623733, 2.7925268 ,\n",
       "       2.79881628, 2.80510575, 2.81139523, 2.8176847 , 2.82397418,\n",
       "       2.83026365, 2.83655313, 2.8428426 , 2.84913208, 2.85542155,\n",
       "       2.86171103, 2.8680005 , 2.87428998, 2.88057945, 2.88686892,\n",
       "       2.8931584 , 2.89944787, 2.90573735, 2.91202682, 2.9183163 ,\n",
       "       2.92460577, 2.93089525, 2.93718472, 2.9434742 , 2.94976367,\n",
       "       2.95605315, 2.96234262, 2.9686321 , 2.97492157, 2.98121105,\n",
       "       2.98750052, 2.99379   , 3.00007947, 3.00636895, 3.01265842,\n",
       "       3.0189479 , 3.02523737, 3.03152684, 3.03781632, 3.04410579,\n",
       "       3.05039527, 3.05668474, 3.06297422, 3.06926369, 3.07555317,\n",
       "       3.08184264, 3.08813212, 3.09442159, 3.10071107, 3.10700054,\n",
       "       3.11329002, 3.11957949, 3.12586897, 3.13215844, 3.13844792,\n",
       "       3.14473739, 3.15102687, 3.15731634, 3.16360582, 3.16989529,\n",
       "       3.17618476, 3.18247424, 3.18876371, 3.19505319, 3.20134266,\n",
       "       3.20763214, 3.21392161, 3.22021109, 3.22650056, 3.23279004,\n",
       "       3.23907951, 3.24536899, 3.25165846, 3.25794794, 3.26423741,\n",
       "       3.27052689, 3.27681636, 3.28310584, 3.28939531, 3.29568479,\n",
       "       3.30197426, 3.30826374, 3.31455321, 3.32084268, 3.32713216,\n",
       "       3.33342163, 3.33971111, 3.34600058, 3.35229006, 3.35857953,\n",
       "       3.36486901, 3.37115848, 3.37744796, 3.38373743, 3.39002691,\n",
       "       3.39631638, 3.40260586, 3.40889533, 3.41518481, 3.42147428,\n",
       "       3.42776376, 3.43405323, 3.44034271, 3.44663218, 3.45292166,\n",
       "       3.45921113, 3.4655006 , 3.47179008, 3.47807955, 3.48436903,\n",
       "       3.4906585 , 3.49694798, 3.50323745, 3.50952693, 3.5158164 ,\n",
       "       3.52210588, 3.52839535, 3.53468483, 3.5409743 , 3.54726378,\n",
       "       3.55355325, 3.55984273, 3.5661322 , 3.57242168, 3.57871115,\n",
       "       3.58500063, 3.5912901 , 3.59757958, 3.60386905, 3.61015852,\n",
       "       3.616448  , 3.62273747, 3.62902695, 3.63531642, 3.6416059 ,\n",
       "       3.64789537, 3.65418485, 3.66047432, 3.6667638 , 3.67305327,\n",
       "       3.67934275, 3.68563222, 3.6919217 , 3.69821117, 3.70450065,\n",
       "       3.71079012, 3.7170796 , 3.72336907, 3.72965855, 3.73594802,\n",
       "       3.7422375 , 3.74852697, 3.75481644, 3.76110592, 3.76739539,\n",
       "       3.77368487, 3.77997434, 3.78626382, 3.79255329, 3.79884277,\n",
       "       3.80513224, 3.81142172, 3.81771119, 3.82400067, 3.83029014,\n",
       "       3.83657962, 3.84286909, 3.84915857, 3.85544804, 3.86173752,\n",
       "       3.86802699, 3.87431647, 3.88060594, 3.88689542, 3.89318489,\n",
       "       3.89947436, 3.90576384, 3.91205331, 3.91834279, 3.92463226,\n",
       "       3.93092174, 3.93721121, 3.94350069, 3.94979016, 3.95607964,\n",
       "       3.96236911, 3.96865859, 3.97494806, 3.98123754, 3.98752701,\n",
       "       3.99381649, 4.00010596, 4.00639544, 4.01268491, 4.01897439,\n",
       "       4.02526386, 4.03155334, 4.03784281, 4.04413228, 4.05042176,\n",
       "       4.05671123, 4.06300071, 4.06929018, 4.07557966, 4.08186913,\n",
       "       4.08815861, 4.09444808, 4.10073756, 4.10702703, 4.11331651,\n",
       "       4.11960598, 4.12589546, 4.13218493, 4.13847441, 4.14476388,\n",
       "       4.15105336, 4.15734283, 4.16363231, 4.16992178, 4.17621126,\n",
       "       4.18250073, 4.1887902 , 4.19507968, 4.20136915, 4.20765863,\n",
       "       4.2139481 , 4.22023758, 4.22652705, 4.23281653, 4.239106  ,\n",
       "       4.24539548, 4.25168495, 4.25797443, 4.2642639 , 4.27055338,\n",
       "       4.27684285, 4.28313233, 4.2894218 , 4.29571128, 4.30200075,\n",
       "       4.30829023, 4.3145797 , 4.32086918, 4.32715865, 4.33344812,\n",
       "       4.3397376 , 4.34602707, 4.35231655, 4.35860602, 4.3648955 ,\n",
       "       4.37118497, 4.37747445, 4.38376392, 4.3900534 , 4.39634287,\n",
       "       4.40263235, 4.40892182, 4.4152113 , 4.42150077, 4.42779025,\n",
       "       4.43407972, 4.4403692 , 4.44665867, 4.45294815, 4.45923762,\n",
       "       4.4655271 , 4.47181657, 4.47810604, 4.48439552, 4.49068499,\n",
       "       4.49697447, 4.50326394, 4.50955342, 4.51584289, 4.52213237,\n",
       "       4.52842184, 4.53471132, 4.54100079, 4.54729027, 4.55357974,\n",
       "       4.55986922, 4.56615869, 4.57244817, 4.57873764, 4.58502712,\n",
       "       4.59131659, 4.59760607, 4.60389554, 4.61018502, 4.61647449,\n",
       "       4.62276396, 4.62905344, 4.63534291, 4.64163239, 4.64792186,\n",
       "       4.65421134, 4.66050081, 4.66679029, 4.67307976, 4.67936924,\n",
       "       4.68565871, 4.69194819, 4.69823766, 4.70452714, 4.71081661,\n",
       "       4.71710609, 4.72339556, 4.72968504, 4.73597451, 4.74226399,\n",
       "       4.74855346, 4.75484294, 4.76113241, 4.76742188, 4.77371136,\n",
       "       4.78000083, 4.78629031, 4.79257978, 4.79886926, 4.80515873,\n",
       "       4.81144821, 4.81773768, 4.82402716, 4.83031663, 4.83660611,\n",
       "       4.84289558, 4.84918506, 4.85547453, 4.86176401, 4.86805348,\n",
       "       4.87434296, 4.88063243, 4.88692191, 4.89321138, 4.89950086,\n",
       "       4.90579033, 4.9120798 , 4.91836928, 4.92465875, 4.93094823,\n",
       "       4.9372377 , 4.94352718, 4.94981665, 4.95610613, 4.9623956 ,\n",
       "       4.96868508, 4.97497455, 4.98126403, 4.9875535 , 4.99384298,\n",
       "       5.00013245, 5.00642193, 5.0127114 , 5.01900088, 5.02529035,\n",
       "       5.03157983, 5.0378693 , 5.04415878, 5.05044825, 5.05673772,\n",
       "       5.0630272 , 5.06931667, 5.07560615, 5.08189562, 5.0881851 ,\n",
       "       5.09447457, 5.10076405, 5.10705352, 5.113343  , 5.11963247,\n",
       "       5.12592195, 5.13221142, 5.1385009 , 5.14479037, 5.15107985,\n",
       "       5.15736932, 5.1636588 , 5.16994827, 5.17623775, 5.18252722,\n",
       "       5.1888167 , 5.19510617, 5.20139564, 5.20768512, 5.21397459,\n",
       "       5.22026407, 5.22655354, 5.23284302, 5.23913249, 5.24542197,\n",
       "       5.25171144, 5.25800092, 5.26429039, 5.27057987, 5.27686934,\n",
       "       5.28315882, 5.28944829, 5.29573777, 5.30202724, 5.30831672,\n",
       "       5.31460619, 5.32089567, 5.32718514, 5.33347462, 5.33976409,\n",
       "       5.34605356, 5.35234304, 5.35863251, 5.36492199, 5.37121146,\n",
       "       5.37750094, 5.38379041, 5.39007989, 5.39636936, 5.40265884,\n",
       "       5.40894831, 5.41523779, 5.42152726, 5.42781674, 5.43410621,\n",
       "       5.44039569, 5.44668516, 5.45297464, 5.45926411, 5.46555359,\n",
       "       5.47184306, 5.47813254, 5.48442201, 5.49071148, 5.49700096,\n",
       "       5.50329043, 5.50957991, 5.51586938, 5.52215886, 5.52844833,\n",
       "       5.53473781, 5.54102728, 5.54731676, 5.55360623, 5.55989571,\n",
       "       5.56618518, 5.57247466, 5.57876413, 5.58505361, 5.59134308,\n",
       "       5.59763256, 5.60392203, 5.61021151, 5.61650098, 5.62279046,\n",
       "       5.62907993, 5.6353694 , 5.64165888, 5.64794835, 5.65423783,\n",
       "       5.6605273 , 5.66681678, 5.67310625, 5.67939573, 5.6856852 ,\n",
       "       5.69197468, 5.69826415, 5.70455363, 5.7108431 , 5.71713258,\n",
       "       5.72342205, 5.72971153, 5.736001  , 5.74229048, 5.74857995,\n",
       "       5.75486943, 5.7611589 , 5.76744838, 5.77373785, 5.78002732,\n",
       "       5.7863168 , 5.79260627, 5.79889575, 5.80518522, 5.8114747 ,\n",
       "       5.81776417, 5.82405365, 5.83034312, 5.8366326 , 5.84292207,\n",
       "       5.84921155, 5.85550102, 5.8617905 , 5.86807997, 5.87436945,\n",
       "       5.88065892, 5.8869484 , 5.89323787, 5.89952735, 5.90581682,\n",
       "       5.9121063 , 5.91839577, 5.92468524, 5.93097472, 5.93726419,\n",
       "       5.94355367, 5.94984314, 5.95613262, 5.96242209, 5.96871157,\n",
       "       5.97500104, 5.98129052, 5.98757999, 5.99386947, 6.00015894,\n",
       "       6.00644842, 6.01273789, 6.01902737, 6.02531684, 6.03160632,\n",
       "       6.03789579, 6.04418527, 6.05047474, 6.05676422, 6.06305369,\n",
       "       6.06934316, 6.07563264, 6.08192211, 6.08821159, 6.09450106,\n",
       "       6.10079054, 6.10708001, 6.11336949, 6.11965896, 6.12594844,\n",
       "       6.13223791, 6.13852739, 6.14481686, 6.15110634, 6.15739581,\n",
       "       6.16368529, 6.16997476, 6.17626424, 6.18255371, 6.18884319,\n",
       "       6.19513266, 6.20142214, 6.20771161, 6.21400108, 6.22029056,\n",
       "       6.22658003, 6.23286951, 6.23915898, 6.24544846, 6.25173793,\n",
       "       6.25802741, 6.26431688, 6.27060636, 6.27689583, 6.28318531])"
      ]
     },
     "execution_count": 62,
     "metadata": {},
     "output_type": "execute_result"
    }
   ],
   "source": [
    "theta =  np.linspace(0, 2*np.pi, 1000)\n",
    "theta"
   ]
  },
  {
   "cell_type": "code",
   "execution_count": 63,
   "id": "bc4d23d3",
   "metadata": {},
   "outputs": [],
   "source": [
    "r = 1 + 3/4 * np.sin(3*theta)"
   ]
  },
  {
   "cell_type": "code",
   "execution_count": 64,
   "id": "0aa146e4",
   "metadata": {},
   "outputs": [
    {
     "data": {
      "text/plain": [
       "[<matplotlib.lines.Line2D at 0x7fd4de0db640>]"
      ]
     },
     "execution_count": 64,
     "metadata": {},
     "output_type": "execute_result"
    },
    {
     "data": {
      "image/png": "[encoded data removed]",
      "text/plain": [
       "<Figure size 432x288 with 1 Axes>"
      ]
     },
     "metadata": {
      "needs_background": "light"
     },
     "output_type": "display_data"
    }
   ],
   "source": [
    "#converting from polar to cartesian co-ordinates\n",
    "x = r*np.cos(theta)\n",
    "\n",
    "y = r*np.sin(theta)\n",
    "\n",
    "plt.plot(x,y)"
   ]
  },
  {
   "cell_type": "code",
   "execution_count": 65,
   "id": "124c8efd",
   "metadata": {},
   "outputs": [
    {
     "data": {
      "text/plain": [
       "[<matplotlib.lines.Line2D at 0x7fd4de0b88e0>]"
      ]
     },
     "execution_count": 65,
     "metadata": {},
     "output_type": "execute_result"
    },
    {
     "data": {
      "image/png": "[encoded data removed]",
      "text/plain": [
       "<Figure size 432x288 with 1 Axes>"
      ]
     },
     "metadata": {
      "needs_background": "light"
     },
     "output_type": "display_data"
    }
   ],
   "source": [
    "plt.plot(theta, r)"
   ]
  },
  {
   "cell_type": "code",
   "execution_count": 66,
   "id": "af3b0e83",
   "metadata": {},
   "outputs": [
    {
     "data": {
      "text/plain": [
       "4.028310324802908"
      ]
     },
     "execution_count": 66,
     "metadata": {},
     "output_type": "execute_result"
    }
   ],
   "source": [
    "dtheta = theta[1] - theta[0]\n",
    "\n",
    "\n",
    "A = 1/2 * sum(r**2) * dtheta\n",
    "A"
   ]
  },
  {
   "cell_type": "code",
   "execution_count": 67,
   "id": "12a5685e",
   "metadata": {},
   "outputs": [
    {
     "data": {
      "text/plain": [
       "11.64002156901387"
      ]
     },
     "execution_count": 67,
     "metadata": {},
     "output_type": "execute_result"
    }
   ],
   "source": [
    "L = sum(np.sqrt(r**2 + np.gradient(r, theta)**2) * dtheta)\n",
    "L"
   ]
  },
  {
   "cell_type": "markdown",
   "id": "3a5e4c8c",
   "metadata": {},
   "source": [
    "# \n",
    "![](example3.PNG)"
   ]
  },
  {
   "cell_type": "markdown",
   "id": "4683d402",
   "metadata": {},
   "source": [
    "$$ P  / (A \\sigma \\epsilon T_0^4) = (\\frac{1}{1 + e^{-kt}})^{4} $$\n",
    "\n"
   ]
  },
  {
   "cell_type": "code",
   "execution_count": 68,
   "id": "31057b6a",
   "metadata": {},
   "outputs": [],
   "source": [
    "kt = np.linspace(0, 3, 100)\n"
   ]
  },
  {
   "cell_type": "markdown",
   "id": "d0b4114b",
   "metadata": {},
   "source": [
    "Here $$ P = P  / (A \\sigma \\epsilon T_0^4) $$ "
   ]
  },
  {
   "cell_type": "code",
   "execution_count": 69,
   "id": "0e5bdd6f",
   "metadata": {},
   "outputs": [],
   "source": [
    "P = (1 / (1 + np.exp(-kt)) )**4\n",
    "\n",
    "dkt = kt[1] - kt[0]\n",
    "\n",
    "E = np.cumsum(P) * dkt"
   ]
  },
  {
   "cell_type": "code",
   "execution_count": 70,
   "id": "8d7e81fd",
   "metadata": {},
   "outputs": [
    {
     "data": {
      "text/plain": [
       "[<matplotlib.lines.Line2D at 0x7fd4de034190>]"
      ]
     },
     "execution_count": 70,
     "metadata": {},
     "output_type": "execute_result"
    },
    {
     "data": {
      "image/png": "[encoded data removed]",
      "text/plain": [
       "<Figure size 432x288 with 1 Axes>"
      ]
     },
     "metadata": {
      "needs_background": "light"
     },
     "output_type": "display_data"
    }
   ],
   "source": [
    "plt.plot(kt, P)\n",
    "plt.plot(kt, E)"
   ]
  },
  {
   "cell_type": "code",
   "execution_count": 71,
   "id": "9877d05c",
   "metadata": {},
   "outputs": [
    {
     "data": {
      "text/plain": [
       "Text(0, 0.5, '$\\\\left(\\\\frac{k}{A \\\\sigma \\\\epsilon T_0^4}\\\\right) E(kt)$')"
      ]
     },
     "execution_count": 71,
     "metadata": {},
     "output_type": "execute_result"
    },
    {
     "data": {
      "image/png": "[encoded data removed]",
      "text/plain": [
       "<Figure size 432x288 with 1 Axes>"
      ]
     },
     "metadata": {
      "needs_background": "light"
     },
     "output_type": "display_data"
    }
   ],
   "source": [
    "plt.plot(kt, E)\n",
    "plt.xlabel('$kt$', fontsize=20)\n",
    "plt.ylabel(r'$\\left(\\frac{k}{A \\sigma \\epsilon T_0^4}\\right) E(kt)$', fontsize=20)\n",
    "\n",
    "#r stand for raw strings"
   ]
  },
  {
   "cell_type": "markdown",
   "id": "43ae3396",
   "metadata": {},
   "source": [
    "# Multi-Dimensional Arrays"
   ]
  },
  {
   "cell_type": "markdown",
   "id": "b4e352af",
   "metadata": {},
   "source": [
    "Creating Multi Dimensional Arrays"
   ]
  },
  {
   "cell_type": "code",
   "execution_count": 72,
   "id": "58670311",
   "metadata": {},
   "outputs": [
    {
     "data": {
      "text/plain": [
       "array([[4, 6, 4],\n",
       "       [1, 2, 2],\n",
       "       [6, 8, 7]])"
      ]
     },
     "execution_count": 72,
     "metadata": {},
     "output_type": "execute_result"
    }
   ],
   "source": [
    "a1 = np.array([[4,6,4], [1,2,2], [6,8,7]])\n",
    "a1"
   ]
  },
  {
   "cell_type": "code",
   "execution_count": 73,
   "id": "9454e39b",
   "metadata": {},
   "outputs": [
    {
     "data": {
      "text/plain": [
       "array([[ 8, 12,  8],\n",
       "       [ 2,  4,  4],\n",
       "       [12, 16, 14]])"
      ]
     },
     "execution_count": 73,
     "metadata": {},
     "output_type": "execute_result"
    }
   ],
   "source": [
    "a1*2"
   ]
  },
  {
   "cell_type": "code",
   "execution_count": 74,
   "id": "bac67e41",
   "metadata": {},
   "outputs": [
    {
     "data": {
      "text/plain": [
       "array([[False,  True, False],\n",
       "       [False, False, False],\n",
       "       [ True,  True,  True]])"
      ]
     },
     "execution_count": 74,
     "metadata": {},
     "output_type": "execute_result"
    }
   ],
   "source": [
    "a1>5"
   ]
  },
  {
   "cell_type": "code",
   "execution_count": 75,
   "id": "4b5eb108",
   "metadata": {},
   "outputs": [
    {
     "data": {
      "text/plain": [
       "array([[ 1.52627236,  0.3759755 ,  1.46858656],\n",
       "       [ 0.75319207, -1.46587511,  0.41785359],\n",
       "       [ 0.01702208,  1.04705257,  2.13440522]])"
      ]
     },
     "execution_count": 75,
     "metadata": {},
     "output_type": "execute_result"
    }
   ],
   "source": [
    "a2 = np.random.randn(3,3)\n",
    "a2"
   ]
  },
  {
   "cell_type": "code",
   "execution_count": 76,
   "id": "af545ece",
   "metadata": {},
   "outputs": [
    {
     "data": {
      "text/plain": [
       "array([0.3759755 , 0.01702208, 1.04705257, 2.13440522])"
      ]
     },
     "execution_count": 76,
     "metadata": {},
     "output_type": "execute_result"
    }
   ],
   "source": [
    "a2[a1>5]"
   ]
  },
  {
   "cell_type": "code",
   "execution_count": 77,
   "id": "2fcc6add",
   "metadata": {},
   "outputs": [
    {
     "data": {
      "text/plain": [
       "array([4, 6, 4])"
      ]
     },
     "execution_count": 77,
     "metadata": {},
     "output_type": "execute_result"
    }
   ],
   "source": [
    "a1[0] #rows"
   ]
  },
  {
   "cell_type": "code",
   "execution_count": 78,
   "id": "1f849226",
   "metadata": {},
   "outputs": [
    {
     "data": {
      "text/plain": [
       "array([4, 1, 6])"
      ]
     },
     "execution_count": 78,
     "metadata": {},
     "output_type": "execute_result"
    }
   ],
   "source": [
    "a1[:,0] #columns"
   ]
  },
  {
   "cell_type": "code",
   "execution_count": 79,
   "id": "7435932c",
   "metadata": {},
   "outputs": [
    {
     "data": {
      "text/plain": [
       "array([2, 8])"
      ]
     },
     "execution_count": 79,
     "metadata": {},
     "output_type": "execute_result"
    }
   ],
   "source": [
    "a1[1:,1]"
   ]
  },
  {
   "cell_type": "code",
   "execution_count": 80,
   "id": "7d798d9a",
   "metadata": {},
   "outputs": [
    {
     "data": {
      "text/plain": [
       "array([[1, 2],\n",
       "       [6, 8]])"
      ]
     },
     "execution_count": 80,
     "metadata": {},
     "output_type": "execute_result"
    }
   ],
   "source": [
    "a1[1:,:2]"
   ]
  },
  {
   "cell_type": "code",
   "execution_count": 81,
   "id": "a714b574",
   "metadata": {},
   "outputs": [
    {
     "data": {
      "text/plain": [
       "array([[1, 2],\n",
       "       [6, 8]])"
      ]
     },
     "execution_count": 81,
     "metadata": {},
     "output_type": "execute_result"
    }
   ],
   "source": [
    "a1[1:, 0:2]"
   ]
  },
  {
   "cell_type": "markdown",
   "id": "5e31b512",
   "metadata": {},
   "source": [
    "# Dealing with 2D functions"
   ]
  },
  {
   "cell_type": "code",
   "execution_count": 82,
   "id": "909dd1e8",
   "metadata": {},
   "outputs": [
    {
     "ename": "ValueError",
     "evalue": "operands could not be broadcast together with shapes (1000,) (500,) ",
     "output_type": "error",
     "traceback": [
      "\u001b[0;31m---------------------------------------------------------------------------\u001b[0m",
      "\u001b[0;31mValueError\u001b[0m                                Traceback (most recent call last)",
      "Input \u001b[0;32mIn [82]\u001b[0m, in \u001b[0;36m<cell line: 4>\u001b[0;34m()\u001b[0m\n\u001b[1;32m      1\u001b[0m x \u001b[38;5;241m=\u001b[39m np\u001b[38;5;241m.\u001b[39mlinspace(\u001b[38;5;241m0\u001b[39m, \u001b[38;5;241m10\u001b[39m, \u001b[38;5;241m1000\u001b[39m)\n\u001b[1;32m      2\u001b[0m y \u001b[38;5;241m=\u001b[39m np\u001b[38;5;241m.\u001b[39mlinspace(\u001b[38;5;241m0\u001b[39m, \u001b[38;5;241m10\u001b[39m, \u001b[38;5;241m500\u001b[39m)\n\u001b[0;32m----> 4\u001b[0m z \u001b[38;5;241m=\u001b[39m \u001b[43mx\u001b[49m\u001b[38;5;241;43m*\u001b[39;49m\u001b[38;5;241;43m*\u001b[39;49m\u001b[38;5;241;43m2\u001b[39;49m\u001b[43m \u001b[49m\u001b[38;5;241;43m+\u001b[39;49m\u001b[43m \u001b[49m\u001b[43my\u001b[49m\u001b[38;5;241;43m*\u001b[39;49m\u001b[38;5;241;43m*\u001b[39;49m\u001b[38;5;241;43m2\u001b[39;49m\n",
      "\u001b[0;31mValueError\u001b[0m: operands could not be broadcast together with shapes (1000,) (500,) "
     ]
    }
   ],
   "source": [
    "x = np.linspace(0, 10, 1000)\n",
    "y = np.linspace(0, 10, 500)\n",
    "\n",
    "z = x**2 + y**2\n",
    "\n",
    "#error because of different lengths"
   ]
  },
  {
   "cell_type": "code",
   "execution_count": null,
   "id": "4f774dd3",
   "metadata": {},
   "outputs": [],
   "source": [
    "x = np.linspace(0, 10, 1000)\n",
    "y = np.linspace(0, 10, 1000)\n",
    "\n",
    "z = x**2 + y**2\n",
    "z\n",
    "\n",
    "#here z is a 1D arrray not 2D"
   ]
  },
  {
   "cell_type": "code",
   "execution_count": null,
   "id": "003c7465",
   "metadata": {},
   "outputs": [],
   "source": [
    "x = np.linspace(0, 10, 1000)\n",
    "y = np.linspace(0, 10, 500)\n",
    "\n"
   ]
  },
  {
   "cell_type": "markdown",
   "id": "93512293",
   "metadata": {},
   "source": [
    "Need to use meshgrids"
   ]
  },
  {
   "cell_type": "code",
   "execution_count": null,
   "id": "8b7f3841",
   "metadata": {},
   "outputs": [],
   "source": [
    "xv, yv = np.meshgrid(x, y)\n",
    "\n",
    "xv #same across columns"
   ]
  },
  {
   "cell_type": "code",
   "execution_count": null,
   "id": "7f2f4a83",
   "metadata": {},
   "outputs": [],
   "source": [
    "yv #same across rows"
   ]
  },
  {
   "cell_type": "code",
   "execution_count": null,
   "id": "19025b0e",
   "metadata": {},
   "outputs": [],
   "source": [
    "zv = xv**2 + yv**2\n",
    "zv"
   ]
  },
  {
   "cell_type": "code",
   "execution_count": null,
   "id": "00898ecb",
   "metadata": {},
   "outputs": [],
   "source": [
    "plt.contourf(xv, yv, zv, level=30)\n",
    "plt.colorbar()"
   ]
  },
  {
   "cell_type": "markdown",
   "id": "018584b5",
   "metadata": {},
   "source": [
    "# Basic LInear ALgebra"
   ]
  },
  {
   "cell_type": "markdown",
   "id": "0045bcee",
   "metadata": {},
   "source": [
    "## Matrix operation"
   ]
  },
  {
   "cell_type": "code",
   "execution_count": null,
   "id": "adf6e67d",
   "metadata": {},
   "outputs": [],
   "source": [
    "A = np.array([[3, 2, 1],[5,-5,4],[6,0,1]])\n",
    "b1 = np.array([1,2,3])\n",
    "b2 = np.array([-1,2,-5])"
   ]
  },
  {
   "cell_type": "code",
   "execution_count": null,
   "id": "55c15a1c",
   "metadata": {},
   "outputs": [],
   "source": [
    "#A multiply by b1\n",
    "\n",
    "A@b1"
   ]
  },
  {
   "cell_type": "code",
   "execution_count": null,
   "id": "0e05ec64",
   "metadata": {},
   "outputs": [],
   "source": [
    "#transpose \n",
    "A.T"
   ]
  },
  {
   "cell_type": "code",
   "execution_count": null,
   "id": "acef7437",
   "metadata": {},
   "outputs": [],
   "source": [
    "#dot product of two vectors b1 and b2\n",
    "\n",
    "np.dot(b1, b2)"
   ]
  },
  {
   "cell_type": "code",
   "execution_count": null,
   "id": "037f532a",
   "metadata": {},
   "outputs": [],
   "source": [
    "#cross product of vectors\n",
    "\n",
    "np.cross(b1, b2)"
   ]
  },
  {
   "cell_type": "markdown",
   "id": "dc8c2c51",
   "metadata": {},
   "source": [
    "## Solving systems of eq\n",
    "\n",
    "$$ 3x + 2y + z = 4 $$\n",
    "$$ 5x - 5y + 4z = 3 $$\n",
    "$$ 6x + z = 0 $$"
   ]
  },
  {
   "cell_type": "code",
   "execution_count": null,
   "id": "c3c2ca22",
   "metadata": {},
   "outputs": [],
   "source": [
    "A = np.array([[3,2,1],[5,-5,4],[6,0,1]])\n",
    "\n",
    "C = np.array([4, 3, 0])"
   ]
  },
  {
   "cell_type": "code",
   "execution_count": null,
   "id": "05b7b930",
   "metadata": {},
   "outputs": [],
   "source": [
    "np.linalg.solve(A,C)"
   ]
  },
  {
   "cell_type": "code",
   "execution_count": null,
   "id": "71d90bce",
   "metadata": {},
   "outputs": [],
   "source": [
    "#eigen values\n",
    "\n",
    "A = np.array([[4,2,2],[2,4,2],[2,2,4]])\n",
    "\n",
    "np.linalg.eig(A)\n"
   ]
  },
  {
   "cell_type": "code",
   "execution_count": null,
   "id": "629bf913",
   "metadata": {},
   "outputs": [],
   "source": [
    "#Here eigen values are in tuple(Read copy)\n"
   ]
  },
  {
   "cell_type": "code",
   "execution_count": null,
   "id": "07bcf852",
   "metadata": {},
   "outputs": [],
   "source": [
    "w, v = np.linalg.eig(A)\n"
   ]
  },
  {
   "cell_type": "code",
   "execution_count": null,
   "id": "76115880",
   "metadata": {},
   "outputs": [],
   "source": [
    "w #eigen values"
   ]
  },
  {
   "cell_type": "code",
   "execution_count": null,
   "id": "a8602498",
   "metadata": {},
   "outputs": [],
   "source": [
    "v #eigen vectors"
   ]
  },
  {
   "cell_type": "code",
   "execution_count": null,
   "id": "9c736e94",
   "metadata": {},
   "outputs": [],
   "source": [
    "# each eigen value has one eigen vector so it the the first column"
   ]
  },
  {
   "cell_type": "code",
   "execution_count": null,
   "id": "18be6b50",
   "metadata": {},
   "outputs": [],
   "source": [
    "v1 = v[:,0] #first eigen vector\n",
    "v1 "
   ]
  },
  {
   "cell_type": "code",
   "execution_count": null,
   "id": "a45602b9",
   "metadata": {},
   "outputs": [],
   "source": [
    "#To check this we can do\n",
    "# orignal 2D matrix times eigen vector should be equal to eigen value times the eigen vector\n",
    "\n",
    "A@v1\n",
    "\n"
   ]
  },
  {
   "cell_type": "code",
   "execution_count": null,
   "id": "0e3ac16c",
   "metadata": {},
   "outputs": [],
   "source": [
    "w[0]*v1 #is equal and hence verified"
   ]
  },
  {
   "cell_type": "markdown",
   "id": "b247b11e",
   "metadata": {},
   "source": [
    "#\n",
    "![](example4.PNG)"
   ]
  },
  {
   "cell_type": "code",
   "execution_count": null,
   "id": "5723a3a5",
   "metadata": {},
   "outputs": [],
   "source": [
    "x = np.linspace(-2, 2, 1000)\n",
    "y = np.linspace(-2, 2, 1000)"
   ]
  },
  {
   "cell_type": "code",
   "execution_count": null,
   "id": "f5726954",
   "metadata": {},
   "outputs": [],
   "source": [
    "xv, yv = np.meshgrid(x, y)"
   ]
  },
  {
   "cell_type": "code",
   "execution_count": null,
   "id": "9f16abbf",
   "metadata": {},
   "outputs": [],
   "source": [
    "zv = np.exp(-(xv**2+yv**2)) * np.sin(xv)"
   ]
  },
  {
   "cell_type": "code",
   "execution_count": null,
   "id": "a6aca900",
   "metadata": {},
   "outputs": [],
   "source": [
    "plt.contourf(xv, yv, zv, level=100)\n",
    "plt.colorbar()"
   ]
  },
  {
   "cell_type": "code",
   "execution_count": null,
   "id": "5e39bdc5",
   "metadata": {},
   "outputs": [],
   "source": [
    "# absolute value\n",
    "# you need to sum it up for integration for volume here as it is 2D and not area\n",
    "# unravel it first to convert it to a 1 D array\n",
    "\n",
    "zv.ravel()"
   ]
  },
  {
   "cell_type": "code",
   "execution_count": null,
   "id": "5d3e97bf",
   "metadata": {},
   "outputs": [],
   "source": [
    "np.abs(zv.ravel()).sum()"
   ]
  },
  {
   "cell_type": "code",
   "execution_count": null,
   "id": "98a345a9",
   "metadata": {},
   "outputs": [],
   "source": [
    "#now multipply it by dx as we do for integration \n",
    "#but here as we have 2D matrix so for volume we \n",
    "#multiply by dxdy\n",
    "x\n"
   ]
  },
  {
   "cell_type": "code",
   "execution_count": null,
   "id": "c7860f74",
   "metadata": {},
   "outputs": [],
   "source": [
    "np.diff(x) #gives difference between all points of x"
   ]
  },
  {
   "cell_type": "code",
   "execution_count": null,
   "id": "abc6dfbd",
   "metadata": {},
   "outputs": [],
   "source": [
    "np.diff(x)[0] #getting the first element which will serve as dx"
   ]
  },
  {
   "cell_type": "code",
   "execution_count": null,
   "id": "5762ca37",
   "metadata": {},
   "outputs": [],
   "source": [
    "#volume\n",
    "np.abs(zv.ravel()).sum() * np.diff(x)[0] * np.diff(y)[0]  "
   ]
  },
  {
   "cell_type": "code",
   "execution_count": null,
   "id": "cd2136d8",
   "metadata": {},
   "outputs": [],
   "source": [
    "#Q.3\n",
    "\n",
    "#Finding the array for zv where the given condition holds true.\n",
    "#Squaring the condition onboth sides.\n",
    "#Using the boolean to index the zv array\n",
    "\n",
    "xv**2 + yv**2 > 0.5**2\n"
   ]
  },
  {
   "cell_type": "code",
   "execution_count": null,
   "id": "2491a3f6",
   "metadata": {},
   "outputs": [],
   "source": [
    "#Taking the old volume and changing index for zv for the given condition\n",
    "\n",
    "np.abs(zv[xv**2 + yv**2 > 0.5**2].ravel()).sum() * np.diff(x)[0] * np.diff(y)[0] "
   ]
  },
  {
   "cell_type": "markdown",
   "id": "66f458e2",
   "metadata": {},
   "source": [
    "![](example5.PNG)"
   ]
  },
  {
   "cell_type": "code",
   "execution_count": null,
   "id": "b34124d8",
   "metadata": {},
   "outputs": [],
   "source": [
    "A = np.array([[3,2,3,10],[2,-2,5,8],[3,3,4,9],[3,4,-3,-7]])\n",
    "\n",
    "C = np.array([4, 1, 3, 2])\n",
    "\n",
    "np.linalg.solve(A,C)"
   ]
  },
  {
   "cell_type": "code",
   "execution_count": null,
   "id": "70431462",
   "metadata": {},
   "outputs": [],
   "source": [
    "D = np.linalg.solve(A,C)\n",
    "\n",
    "print('V1={}, V2={}, V3={}, V4={}'.format(D[0], D[1], D[2], D[3]))"
   ]
  },
  {
   "cell_type": "markdown",
   "id": "d494ad31",
   "metadata": {},
   "source": [
    "#\n",
    "![](example6.PNG)"
   ]
  },
  {
   "cell_type": "code",
   "execution_count": null,
   "id": "2e42f387",
   "metadata": {},
   "outputs": [],
   "source": [
    "# c = 1\n",
    "\n",
    "z = np.linspace(0, 4*np.pi, 100)\n",
    "t = np.linspace(0, 10, 100)\n",
    "\n",
    "tv, zv = np.meshgrid(t, z)\n",
    "\n",
    "Ex = np.cos(zv-tv)\n",
    "Ey = 2*np.cos(zv - tv + np.pi/2)\n",
    "Ez = 0*tv # trick for z being always zero. Trick for getting right dimention array\n",
    "\n",
    "\n",
    "EbyE0 = np.cos(zv-tv) + 2*np.cos(zv - tv + np.pi/2)\n",
    "EbyE0\n",
    " "
   ]
  },
  {
   "cell_type": "code",
   "execution_count": null,
   "id": "701e1aaf",
   "metadata": {},
   "outputs": [],
   "source": [
    "# Ex as function of t at z = 0 \n",
    "\n",
    "plt.plot(t, Ex[0])"
   ]
  },
  {
   "cell_type": "code",
   "execution_count": null,
   "id": "ed5cd67f",
   "metadata": {},
   "outputs": [],
   "source": [
    "# Ey as function of t at z = 0 \n",
    "\n",
    "plt.plot(t, Ey[0])"
   ]
  },
  {
   "cell_type": "code",
   "execution_count": null,
   "id": "ef409b46",
   "metadata": {},
   "outputs": [],
   "source": [
    "plt.plot(t, Ex[0])\n",
    "plt.plot(t, Ey[0])"
   ]
  },
  {
   "cell_type": "code",
   "execution_count": null,
   "id": "4c13f281",
   "metadata": {},
   "outputs": [],
   "source": [
    "E = np.array([Ex, Ey, Ez]) #3-D array\n",
    "E\n"
   ]
  },
  {
   "cell_type": "code",
   "execution_count": null,
   "id": "e2f58dd6",
   "metadata": {},
   "outputs": [],
   "source": [
    "#We want to evaluate zcap cross E for all values.\n",
    "# The most efficient way of doing this, insead of 2-D arrays \n",
    "#that we have above we want an array such that every point has Ex, Ey, Ez.\n",
    "#We do this by swapping the axis of array."
   ]
  },
  {
   "cell_type": "code",
   "execution_count": null,
   "id": "324bc8de",
   "metadata": {},
   "outputs": [],
   "source": [
    "E = np.swapaxes(E, 0, -1)\n",
    "E"
   ]
  },
  {
   "cell_type": "code",
   "execution_count": null,
   "id": "2b30a064",
   "metadata": {},
   "outputs": [],
   "source": [
    "#cross product of zcap cross E\n",
    "\n",
    "np.cross(np.array([0,0,1]), E)"
   ]
  },
  {
   "cell_type": "code",
   "execution_count": null,
   "id": "b1c8a3db",
   "metadata": {},
   "outputs": [],
   "source": [
    "B = np.cross(np.array([0,0,1]), E)\n",
    "B"
   ]
  },
  {
   "cell_type": "code",
   "execution_count": null,
   "id": "4345b0aa",
   "metadata": {},
   "outputs": [],
   "source": [
    "#To swap the axes back\n",
    "B = np.swapaxes(B, 0, -1)\n",
    "B"
   ]
  },
  {
   "cell_type": "code",
   "execution_count": null,
   "id": "f0a6d132",
   "metadata": {},
   "outputs": [],
   "source": [
    "Bx, By, Bz = B"
   ]
  },
  {
   "cell_type": "code",
   "execution_count": null,
   "id": "abf61b55",
   "metadata": {},
   "outputs": [],
   "source": [
    "Bx"
   ]
  },
  {
   "cell_type": "code",
   "execution_count": null,
   "id": "62b8e1ee",
   "metadata": {},
   "outputs": [],
   "source": [
    "By"
   ]
  },
  {
   "cell_type": "code",
   "execution_count": null,
   "id": "e1bcf9ce",
   "metadata": {},
   "outputs": [],
   "source": [
    "Bz"
   ]
  },
  {
   "cell_type": "code",
   "execution_count": null,
   "id": "3e237cc6",
   "metadata": {},
   "outputs": [],
   "source": [
    "plt.plot(t, Ey, Bx)"
   ]
  },
  {
   "cell_type": "code",
   "execution_count": null,
   "id": "d02dff3d",
   "metadata": {},
   "outputs": [],
   "source": [
    "plt.plot(t, Ey[0])\n",
    "plt.plot(t, Bx[0])"
   ]
  },
  {
   "cell_type": "code",
   "execution_count": null,
   "id": "83b8b6f3",
   "metadata": {},
   "outputs": [],
   "source": [
    "#Computing POynting Vector\n",
    "\n",
    "E\n",
    "\n"
   ]
  },
  {
   "cell_type": "code",
   "execution_count": null,
   "id": "bd3b15f4",
   "metadata": {},
   "outputs": [],
   "source": [
    "B"
   ]
  },
  {
   "cell_type": "code",
   "execution_count": null,
   "id": "73a55926",
   "metadata": {},
   "outputs": [],
   "source": [
    "#By checking the form of B we realized that it is not in the\n",
    "#correct array form and in the 2-D arrays form so swapping it.\n",
    "\n",
    "B = np.swapaxes(B, 0, -1)\n",
    "B"
   ]
  },
  {
   "cell_type": "code",
   "execution_count": null,
   "id": "6305615c",
   "metadata": {},
   "outputs": [],
   "source": [
    "S = np.cross(E, B)\n",
    "S"
   ]
  },
  {
   "cell_type": "code",
   "execution_count": null,
   "id": "7b6aa696",
   "metadata": {},
   "outputs": [],
   "source": [
    "#Swapping axes back for S\n",
    "\n",
    "S = np.swapaxes(S, 0, -1)\n",
    "S"
   ]
  },
  {
   "cell_type": "code",
   "execution_count": null,
   "id": "2713a25a",
   "metadata": {},
   "outputs": [],
   "source": [
    "Sx, Sy, Sz = S"
   ]
  },
  {
   "cell_type": "code",
   "execution_count": null,
   "id": "1a32d735",
   "metadata": {},
   "outputs": [],
   "source": [
    "Sx"
   ]
  },
  {
   "cell_type": "code",
   "execution_count": null,
   "id": "51a1e4c8",
   "metadata": {},
   "outputs": [],
   "source": [
    "Sy"
   ]
  },
  {
   "cell_type": "code",
   "execution_count": null,
   "id": "cf229351",
   "metadata": {},
   "outputs": [],
   "source": [
    "Sz"
   ]
  },
  {
   "cell_type": "markdown",
   "id": "076a1160",
   "metadata": {},
   "source": [
    "#\n",
    "![](example7.PNG)"
   ]
  },
  {
   "cell_type": "code",
   "execution_count": null,
   "id": "a4bb6c75",
   "metadata": {},
   "outputs": [],
   "source": [
    "N = 1000\n",
    "x = np.linspace(0,1,N+1)\n",
    "dx = x[1]-x[0]\n",
    "\n",
    "main_diag = -2*np.ones(N-1)\n",
    "off_diag = np.ones(N-2)\n",
    "derivative_matrix = (np.diag(main_diag) + np.diag(off_diag, k=1)+ np.diag(off_diag, k=-1))/dx**2\n",
    "x2_matrix = np.diag((10*x[1:-1])**2)\n",
    "LHS_matrix = derivative_matrix #+ x2_matrix \n",
    "\n"
   ]
  },
  {
   "cell_type": "code",
   "execution_count": null,
   "id": "18ed6ea2",
   "metadata": {},
   "outputs": [],
   "source": [
    "w, v = np.linalg.eigh(LHS_matrix)\n"
   ]
  },
  {
   "cell_type": "code",
   "execution_count": null,
   "id": "bae89f24",
   "metadata": {},
   "outputs": [],
   "source": [
    "plt.plot(-1*v[:,-1])\n",
    "plt.plot(-1*v[:,-2])\n",
    "plt.plot(-1*v[:,-3])\n",
    "plt.plot(-1*v[:,-4])\n"
   ]
  },
  {
   "cell_type": "code",
   "execution_count": null,
   "id": "45def125",
   "metadata": {},
   "outputs": [],
   "source": [
    "w[-1]"
   ]
  },
  {
   "cell_type": "code",
   "execution_count": null,
   "id": "09f5ba55",
   "metadata": {},
   "outputs": [],
   "source": [
    "np.pi**2"
   ]
  },
  {
   "cell_type": "code",
   "execution_count": null,
   "id": "4f3c753d",
   "metadata": {},
   "outputs": [],
   "source": [
    "w[-2]"
   ]
  },
  {
   "cell_type": "code",
   "execution_count": null,
   "id": "5b58b9ef",
   "metadata": {},
   "outputs": [],
   "source": [
    "(2*np.pi)**2"
   ]
  },
  {
   "cell_type": "code",
   "execution_count": null,
   "id": "b2c0ae2e",
   "metadata": {},
   "outputs": [],
   "source": [
    "w[-3]"
   ]
  },
  {
   "cell_type": "code",
   "execution_count": null,
   "id": "4ce7706d",
   "metadata": {},
   "outputs": [],
   "source": [
    "(3*np.pi)**2"
   ]
  },
  {
   "cell_type": "code",
   "execution_count": null,
   "id": "0b791dc2",
   "metadata": {},
   "outputs": [],
   "source": [
    "w[-4]"
   ]
  },
  {
   "cell_type": "code",
   "execution_count": null,
   "id": "0da0af02",
   "metadata": {},
   "outputs": [],
   "source": [
    "(4*np.pi)**2"
   ]
  },
  {
   "cell_type": "markdown",
   "id": "fef1d9aa",
   "metadata": {},
   "source": [
    "# Basic Datasets"
   ]
  },
  {
   "cell_type": "code",
   "execution_count": null,
   "id": "057ce8ca",
   "metadata": {},
   "outputs": [],
   "source": [
    "data= np.loadtxt('/home/hemantika/Documents/Python learning/sample.csv', dtype='object', delimiter=',', unpack=True, skiprows=1)"
   ]
  },
  {
   "cell_type": "code",
   "execution_count": null,
   "id": "e44e33f3",
   "metadata": {},
   "outputs": [],
   "source": [
    "data"
   ]
  },
  {
   "cell_type": "code",
   "execution_count": null,
   "id": "91e1880e",
   "metadata": {},
   "outputs": [],
   "source": [
    "data[0]"
   ]
  },
  {
   "cell_type": "code",
   "execution_count": null,
   "id": "12a04d8f",
   "metadata": {},
   "outputs": [],
   "source": [
    "data[1]"
   ]
  },
  {
   "cell_type": "code",
   "execution_count": null,
   "id": "6bf210c1",
   "metadata": {},
   "outputs": [],
   "source": [
    "data[2]"
   ]
  },
  {
   "cell_type": "code",
   "execution_count": null,
   "id": "e40aebb8",
   "metadata": {},
   "outputs": [],
   "source": [
    "data[1].astype(str)"
   ]
  },
  {
   "cell_type": "code",
   "execution_count": null,
   "id": "5230198b",
   "metadata": {},
   "outputs": [],
   "source": [
    "data[2].astype(float)"
   ]
  },
  {
   "cell_type": "code",
   "execution_count": 85,
   "id": "01cb0e9f",
   "metadata": {},
   "outputs": [],
   "source": [
    "Srno, Person, Height = np.loadtxt('sample.csv', dtype='object', delimiter=',', unpack=True, skiprows=1)"
   ]
  },
  {
   "cell_type": "code",
   "execution_count": 86,
   "id": "4e29744a",
   "metadata": {},
   "outputs": [
    {
     "data": {
      "text/plain": [
       "array(['Jim', 'Mike', 'Bob', 'Susy', 'Tim', 'Frank'], dtype=object)"
      ]
     },
     "execution_count": 86,
     "metadata": {},
     "output_type": "execute_result"
    }
   ],
   "source": [
    "Person"
   ]
  },
  {
   "cell_type": "code",
   "execution_count": 88,
   "id": "b28a6b5a",
   "metadata": {},
   "outputs": [
    {
     "data": {
      "text/plain": [
       "array([172., 168., 182., 156., 170., 180.])"
      ]
     },
     "execution_count": 88,
     "metadata": {},
     "output_type": "execute_result"
    }
   ],
   "source": [
    "Height"
   ]
  },
  {
   "cell_type": "code",
   "execution_count": 89,
   "id": "a1706453",
   "metadata": {},
   "outputs": [],
   "source": [
    "Person = Person.astype(str)\n",
    "Height = Height.astype(float)"
   ]
  },
  {
   "cell_type": "code",
   "execution_count": 90,
   "id": "84c09b0f",
   "metadata": {},
   "outputs": [
    {
     "data": {
      "text/plain": [
       "array(['Jim', 'Mike', 'Bob', 'Susy', 'Tim', 'Frank'], dtype='<U5')"
      ]
     },
     "execution_count": 90,
     "metadata": {},
     "output_type": "execute_result"
    }
   ],
   "source": [
    "Person"
   ]
  },
  {
   "cell_type": "code",
   "execution_count": 92,
   "id": "4824b68f",
   "metadata": {},
   "outputs": [
    {
     "data": {
      "text/plain": [
       "array([172., 168., 182., 156., 170., 180.])"
      ]
     },
     "execution_count": 92,
     "metadata": {},
     "output_type": "execute_result"
    }
   ],
   "source": [
    "Height"
   ]
  },
  {
   "cell_type": "code",
   "execution_count": null,
   "id": "bb4264c4",
   "metadata": {},
   "outputs": [],
   "source": []
  }
 ],
 "metadata": {
  "kernelspec": {
   "display_name": "Python 3 (ipykernel)",
   "language": "python",
   "name": "python3"
  },
  "language_info": {
   "codemirror_mode": {
    "name": "ipython",
    "version": 3
   },
   "file_extension": ".py",
   "mimetype": "text/x-python",
   "name": "python",
   "nbconvert_exporter": "python",
   "pygments_lexer": "ipython3",
   "version": "3.9.12"
  }
 },
 "nbformat": 4,
 "nbformat_minor": 5
}
